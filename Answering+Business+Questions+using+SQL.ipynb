{
 "cells": [
  {
   "cell_type": "markdown",
   "metadata": {},
   "source": [
    "# Chinook Database"
   ]
  },
  {
   "cell_type": "markdown",
   "metadata": {},
   "source": [
    "We'll be using an SQLite database file for an imaginary company \"Chinook\" that sells digital music.\n",
    "\n",
    "The database [chinook.db](https://github.com/lerocha/chinook-database) contains tables for invoices, customers, employees, artists, tracks, and more"
   ]
  },
  {
   "cell_type": "code",
   "execution_count": 3,
   "metadata": {
    "collapsed": false
   },
   "outputs": [
    {
     "data": {
      "text/plain": [
       "'Connected: None@chinook.db'"
      ]
     },
     "execution_count": 3,
     "metadata": {},
     "output_type": "execute_result"
    }
   ],
   "source": [
    "%%capture\n",
    "%load_ext sql\n",
    "%sql sqlite:///chinook.db"
   ]
  },
  {
   "cell_type": "code",
   "execution_count": 4,
   "metadata": {
    "collapsed": false
   },
   "outputs": [
    {
     "name": "stdout",
     "output_type": "stream",
     "text": [
      "Done.\n"
     ]
    },
    {
     "data": {
      "text/html": [
       "<table>\n",
       "    <tr>\n",
       "        <th>name</th>\n",
       "        <th>type</th>\n",
       "    </tr>\n",
       "    <tr>\n",
       "        <td>album</td>\n",
       "        <td>table</td>\n",
       "    </tr>\n",
       "    <tr>\n",
       "        <td>artist</td>\n",
       "        <td>table</td>\n",
       "    </tr>\n",
       "    <tr>\n",
       "        <td>customer</td>\n",
       "        <td>table</td>\n",
       "    </tr>\n",
       "    <tr>\n",
       "        <td>employee</td>\n",
       "        <td>table</td>\n",
       "    </tr>\n",
       "    <tr>\n",
       "        <td>genre</td>\n",
       "        <td>table</td>\n",
       "    </tr>\n",
       "    <tr>\n",
       "        <td>invoice</td>\n",
       "        <td>table</td>\n",
       "    </tr>\n",
       "    <tr>\n",
       "        <td>invoice_line</td>\n",
       "        <td>table</td>\n",
       "    </tr>\n",
       "    <tr>\n",
       "        <td>media_type</td>\n",
       "        <td>table</td>\n",
       "    </tr>\n",
       "    <tr>\n",
       "        <td>playlist</td>\n",
       "        <td>table</td>\n",
       "    </tr>\n",
       "    <tr>\n",
       "        <td>playlist_track</td>\n",
       "        <td>table</td>\n",
       "    </tr>\n",
       "    <tr>\n",
       "        <td>track</td>\n",
       "        <td>table</td>\n",
       "    </tr>\n",
       "</table>"
      ],
      "text/plain": [
       "[('album', 'table'),\n",
       " ('artist', 'table'),\n",
       " ('customer', 'table'),\n",
       " ('employee', 'table'),\n",
       " ('genre', 'table'),\n",
       " ('invoice', 'table'),\n",
       " ('invoice_line', 'table'),\n",
       " ('media_type', 'table'),\n",
       " ('playlist', 'table'),\n",
       " ('playlist_track', 'table'),\n",
       " ('track', 'table')]"
      ]
     },
     "execution_count": 4,
     "metadata": {},
     "output_type": "execute_result"
    }
   ],
   "source": [
    "%%sql\n",
    "SELECT\n",
    "    name,\n",
    "    type\n",
    "FROM sqlite_master\n",
    "WHERE type IN (\"table\",\"view\");"
   ]
  },
  {
   "cell_type": "markdown",
   "metadata": {},
   "source": [
    "# Which of the 4 albums should Chinook add to the store?"
   ]
  },
  {
   "cell_type": "markdown",
   "metadata": {},
   "source": [
    "The Chinook record store just signed a deal with a new record label that focuses on artists in the USA. We have been tasked to select 3 of the 4 albums listed below.\n",
    "\n",
    "|Artist Name| Genre |\n",
    "| ----------|-------|\n",
    "| Regal     | Hip hop|\n",
    "| Red Tone  | Punk|\n",
    "| Metro and the Girls | Pop|\n",
    "| Slim Jim Bites | Blues |\n",
    "\n",
    "\n",
    "We have the artists' names and genre of music they produce. To answer the question above, we should look at the most popular genres in the USA. To do this, we'll find the total tracks sold by each genre in the USA and the % of total tracks sold. We can retrieve this information from the `customer`, `invoice`, `invoice_line`, `track`, and `genre` tables by using multiple `Joining` keywords"
   ]
  },
  {
   "cell_type": "code",
   "execution_count": 3,
   "metadata": {
    "collapsed": false
   },
   "outputs": [
    {
     "name": "stdout",
     "output_type": "stream",
     "text": [
      "Done.\n"
     ]
    },
    {
     "data": {
      "text/html": [
       "<table>\n",
       "    <tr>\n",
       "        <th>genre</th>\n",
       "        <th>tracks_sold</th>\n",
       "        <th>percentage_sold</th>\n",
       "    </tr>\n",
       "    <tr>\n",
       "        <td>Rock</td>\n",
       "        <td>561</td>\n",
       "        <td>0.5337773549000951</td>\n",
       "    </tr>\n",
       "    <tr>\n",
       "        <td>Alternative &amp; Punk</td>\n",
       "        <td>130</td>\n",
       "        <td>0.12369172216936251</td>\n",
       "    </tr>\n",
       "    <tr>\n",
       "        <td>Metal</td>\n",
       "        <td>124</td>\n",
       "        <td>0.11798287345385347</td>\n",
       "    </tr>\n",
       "    <tr>\n",
       "        <td>R&amp;B/Soul</td>\n",
       "        <td>53</td>\n",
       "        <td>0.05042816365366318</td>\n",
       "    </tr>\n",
       "    <tr>\n",
       "        <td>Blues</td>\n",
       "        <td>36</td>\n",
       "        <td>0.03425309229305423</td>\n",
       "    </tr>\n",
       "    <tr>\n",
       "        <td>Alternative</td>\n",
       "        <td>35</td>\n",
       "        <td>0.03330161750713606</td>\n",
       "    </tr>\n",
       "    <tr>\n",
       "        <td>Latin</td>\n",
       "        <td>22</td>\n",
       "        <td>0.02093244529019981</td>\n",
       "    </tr>\n",
       "    <tr>\n",
       "        <td>Pop</td>\n",
       "        <td>22</td>\n",
       "        <td>0.02093244529019981</td>\n",
       "    </tr>\n",
       "    <tr>\n",
       "        <td>Hip Hop/Rap</td>\n",
       "        <td>20</td>\n",
       "        <td>0.019029495718363463</td>\n",
       "    </tr>\n",
       "    <tr>\n",
       "        <td>Jazz</td>\n",
       "        <td>14</td>\n",
       "        <td>0.013320647002854425</td>\n",
       "    </tr>\n",
       "</table>"
      ],
      "text/plain": [
       "[('Rock', 561, 0.5337773549000951),\n",
       " ('Alternative & Punk', 130, 0.12369172216936251),\n",
       " ('Metal', 124, 0.11798287345385347),\n",
       " ('R&B/Soul', 53, 0.05042816365366318),\n",
       " ('Blues', 36, 0.03425309229305423),\n",
       " ('Alternative', 35, 0.03330161750713606),\n",
       " ('Latin', 22, 0.02093244529019981),\n",
       " ('Pop', 22, 0.02093244529019981),\n",
       " ('Hip Hop/Rap', 20, 0.019029495718363463),\n",
       " ('Jazz', 14, 0.013320647002854425)]"
      ]
     },
     "execution_count": 3,
     "metadata": {},
     "output_type": "execute_result"
    }
   ],
   "source": [
    "%%sql\n",
    "\n",
    "WITH usa_tracks_sold AS\n",
    "   (\n",
    "    SELECT il.* FROM invoice_line il\n",
    "    INNER JOIN invoice i on il.invoice_id = i.invoice_id\n",
    "    INNER JOIN customer c on i.customer_id = c.customer_id\n",
    "    WHERE c.country = \"USA\"\n",
    "   )\n",
    "\n",
    "SELECT\n",
    "    g.name genre,\n",
    "    count(uts.invoice_line_id) tracks_sold,\n",
    "    cast(count(uts.invoice_line_id) AS FLOAT) / (\n",
    "        SELECT COUNT(*) from usa_tracks_sold\n",
    "    ) percentage_sold\n",
    "FROM usa_tracks_sold uts\n",
    "INNER JOIN track t on t.track_id = uts.track_id\n",
    "INNER JOIN genre g on g.genre_id = t.genre_id\n",
    "GROUP BY 1\n",
    "ORDER BY 2 DESC\n",
    "LIMIT 10;"
   ]
  },
  {
   "cell_type": "markdown",
   "metadata": {},
   "source": [
    "\n",
    "Based on the sales of tracks across different genres in the USA, we should purchase the new albums by the following artists:\n",
    "\n",
    "- Red Tone (Punk)\n",
    "- Slim Jim Bites (Blues)\n",
    "- Meteor and the Girls (Pop)\n",
    "\n",
    "It's worth keeping in mind that combined, these three genres only make up only 17% of total sales, so we should be on the lookout for artists and albums from the 'rock' genre, which accounts for 53% of sales."
   ]
  },
  {
   "cell_type": "markdown",
   "metadata": {},
   "source": [
    "# Exploring Customer Purchases Based on Employees"
   ]
  },
  {
   "cell_type": "markdown",
   "metadata": {},
   "source": [
    "Whenever a customer first makes a purchase, they are assigned to a sales support representative. We were tasked to analyze employee performance based on the number of and total sales each one has. We can retrieve this information through the `employee`, `customer`, `invoice`, and `invoice_line` tables."
   ]
  },
  {
   "cell_type": "code",
   "execution_count": 18,
   "metadata": {
    "collapsed": false
   },
   "outputs": [
    {
     "data": {
      "text/html": [
       "<div>\n",
       "<style scoped>\n",
       "    .dataframe tbody tr th:only-of-type {\n",
       "        vertical-align: middle;\n",
       "    }\n",
       "\n",
       "    .dataframe tbody tr th {\n",
       "        vertical-align: top;\n",
       "    }\n",
       "\n",
       "    .dataframe thead th {\n",
       "        text-align: right;\n",
       "    }\n",
       "</style>\n",
       "<table border=\"1\" class=\"dataframe\">\n",
       "  <thead>\n",
       "    <tr style=\"text-align: right;\">\n",
       "      <th></th>\n",
       "      <th>employee_name</th>\n",
       "      <th>hire_date</th>\n",
       "      <th>country</th>\n",
       "      <th>num_transactions</th>\n",
       "      <th>dollar_sales</th>\n",
       "      <th>pct_sales</th>\n",
       "      <th>emp_duration_days</th>\n",
       "    </tr>\n",
       "  </thead>\n",
       "  <tbody>\n",
       "    <tr>\n",
       "      <th>0</th>\n",
       "      <td>Jane Peacock</td>\n",
       "      <td>2017-04-01 00:00:00</td>\n",
       "      <td>Canada</td>\n",
       "      <td>1749</td>\n",
       "      <td>18246.69</td>\n",
       "      <td>38.41</td>\n",
       "      <td>1369</td>\n",
       "    </tr>\n",
       "    <tr>\n",
       "      <th>1</th>\n",
       "      <td>Margaret Park</td>\n",
       "      <td>2017-05-03 00:00:00</td>\n",
       "      <td>Canada</td>\n",
       "      <td>1600</td>\n",
       "      <td>15923.16</td>\n",
       "      <td>33.52</td>\n",
       "      <td>1336</td>\n",
       "    </tr>\n",
       "    <tr>\n",
       "      <th>2</th>\n",
       "      <td>Steve Johnson</td>\n",
       "      <td>2017-10-17 00:00:00</td>\n",
       "      <td>Canada</td>\n",
       "      <td>1408</td>\n",
       "      <td>13333.32</td>\n",
       "      <td>28.07</td>\n",
       "      <td>1160</td>\n",
       "    </tr>\n",
       "  </tbody>\n",
       "</table>\n",
       "</div>"
      ],
      "text/plain": [
       "   employee_name            hire_date country  num_transactions  dollar_sales  \\\n",
       "0   Jane Peacock  2017-04-01 00:00:00  Canada              1749      18246.69   \n",
       "1  Margaret Park  2017-05-03 00:00:00  Canada              1600      15923.16   \n",
       "2  Steve Johnson  2017-10-17 00:00:00  Canada              1408      13333.32   \n",
       "\n",
       "   pct_sales  emp_duration_days  \n",
       "0      38.41               1369  \n",
       "1      33.52               1336  \n",
       "2      28.07               1160  "
      ]
     },
     "execution_count": 18,
     "metadata": {},
     "output_type": "execute_result"
    },
    {
     "data": {
      "image/png": "[encoded data removed]",
      "text/plain": [
       "<matplotlib.figure.Figure at 0x7efed75beef0>"
      ]
     },
     "metadata": {},
     "output_type": "display_data"
    }
   ],
   "source": [
    "import pandas as pd\n",
    "import numpy as np\n",
    "import matplotlib.pyplot as plt\n",
    "import sqlite3\n",
    "%matplotlib inline\n",
    "\n",
    "query = \"\"\" \n",
    "WITH \n",
    "sales_agents AS (SELECT *\n",
    "                   FROM employee\n",
    "                    WHERE title = 'Sales Support Agent'),\n",
    "employee_info AS (SELECT * \n",
    "                  FROM sales_agents sa\n",
    "                  LEFT JOIN customer c ON sa.employee_id = c.support_rep_id\n",
    "                  INNER JOIN invoice i ON c.customer_id = i.customer_id\n",
    "                  INNER JOIN invoice_line il ON i.invoice_id = il.invoice_id\n",
    "                 INNER JOIN track t ON il.track_id = t.track_id \n",
    "                 INNER JOIN (SELECT *, name genre_name \n",
    "                                             FROM genre) g ON t.genre_id = g.genre_id )\n",
    "\n",
    "SELECT \n",
    " first_name || ' ' || last_name employee_name,\n",
    " hire_date,\n",
    " country,\n",
    " COUNT (*) num_transactions,\n",
    " ROUND(SUM(total), 2) dollar_sales,\n",
    " ROUND(SUM(total) / (SELECT SUM(total) FROM employee_info)*100, 2) pct_sales,\n",
    " (strftime('%s',MAX(invoice_date)) - strftime('%s',hire_date))/60/60/24 emp_duration_days\n",
    "FROM employee_info\n",
    "GROUP BY employee_id;\n",
    "\"\"\"\n",
    "conn = sqlite3.connect(\"chinook.db\")\n",
    "df_e_info = pd.read_sql_query(query, conn)\n",
    "\n",
    "fig, ax = plt.subplots(figsize=(6,5))\n",
    "colors = ['maroon','silver','gainsboro']\n",
    "\n",
    "ax.pie(x=df_e_info['pct_sales'], labels=df_e_info['employee_name'], colors=colors,\n",
    "       explode=(0.1,0,0), autopct=\"%1.1f%%\", startangle=90)\n",
    "plt.title(\"Total Sales for Sales Support Agent (%)\", fontdict={'fontsize':25,'fontweight':'bold'})\n",
    "\n",
    "\n",
    "df_e_info"
   ]
  },
  {
   "cell_type": "markdown",
   "metadata": {},
   "source": [
    "So we can see that Jane's sales are ~16% higher than Steve's sales, and that she's been employed for about 10% longer. In the end, Jane is outperforming Steve by a modest margin of about 5%.\n",
    "\n",
    "Furthermore, Jane's sales are about 8.5% higher than Margaret's, even though she's only been here 2.5% longer. She's outperforming Margaret by about 6%.\n",
    "\n",
    "Margaret's sales are about 12% higher than Steve's, but she has been employeed for 13% longer. This makes Margaret the worst performer by a negligible amount (1%).\n",
    "\n",
    "Ultimately, we see that the differences in total sales are most likely attributed to the duration of employment rather than a single rep performing better or worse than the others, although Jane does seem to perform slightly better."
   ]
  },
  {
   "cell_type": "markdown",
   "metadata": {},
   "source": [
    "# Analyzing Customers From Different Countries"
   ]
  },
  {
   "cell_type": "markdown",
   "metadata": {},
   "source": [
    "Now we collect data on purchases for customers from different countries, including total number and \\% of customers, total value and \\% of sales, average value of sales per customer, average order value. Because in our database there are some countries with only one customer, we'll collect those countries into an \"Other\" group."
   ]
  },
  {
   "cell_type": "code",
   "execution_count": 52,
   "metadata": {
    "collapsed": false,
    "scrolled": false
   },
   "outputs": [
    {
     "data": {
      "text/html": [
       "<div>\n",
       "<style scoped>\n",
       "    .dataframe tbody tr th:only-of-type {\n",
       "        vertical-align: middle;\n",
       "    }\n",
       "\n",
       "    .dataframe tbody tr th {\n",
       "        vertical-align: top;\n",
       "    }\n",
       "\n",
       "    .dataframe thead th {\n",
       "        text-align: right;\n",
       "    }\n",
       "</style>\n",
       "<table border=\"1\" class=\"dataframe\">\n",
       "  <thead>\n",
       "    <tr style=\"text-align: right;\">\n",
       "      <th></th>\n",
       "      <th>countries</th>\n",
       "      <th>customers</th>\n",
       "      <th>total_sales</th>\n",
       "      <th>avg_sales_per_cust</th>\n",
       "      <th>avg_order_value</th>\n",
       "    </tr>\n",
       "  </thead>\n",
       "  <tbody>\n",
       "    <tr>\n",
       "      <th>0</th>\n",
       "      <td>USA</td>\n",
       "      <td>13</td>\n",
       "      <td>1040.49</td>\n",
       "      <td>10</td>\n",
       "      <td>7.94</td>\n",
       "    </tr>\n",
       "    <tr>\n",
       "      <th>1</th>\n",
       "      <td>Canada</td>\n",
       "      <td>8</td>\n",
       "      <td>535.59</td>\n",
       "      <td>9</td>\n",
       "      <td>7.05</td>\n",
       "    </tr>\n",
       "    <tr>\n",
       "      <th>2</th>\n",
       "      <td>Brazil</td>\n",
       "      <td>5</td>\n",
       "      <td>427.68</td>\n",
       "      <td>12</td>\n",
       "      <td>7.01</td>\n",
       "    </tr>\n",
       "    <tr>\n",
       "      <th>3</th>\n",
       "      <td>France</td>\n",
       "      <td>5</td>\n",
       "      <td>389.07</td>\n",
       "      <td>10</td>\n",
       "      <td>7.78</td>\n",
       "    </tr>\n",
       "    <tr>\n",
       "      <th>4</th>\n",
       "      <td>Germany</td>\n",
       "      <td>4</td>\n",
       "      <td>334.62</td>\n",
       "      <td>10</td>\n",
       "      <td>8.16</td>\n",
       "    </tr>\n",
       "    <tr>\n",
       "      <th>5</th>\n",
       "      <td>Czech Republic</td>\n",
       "      <td>2</td>\n",
       "      <td>273.24</td>\n",
       "      <td>15</td>\n",
       "      <td>9.11</td>\n",
       "    </tr>\n",
       "    <tr>\n",
       "      <th>6</th>\n",
       "      <td>United Kingdom</td>\n",
       "      <td>3</td>\n",
       "      <td>245.52</td>\n",
       "      <td>9</td>\n",
       "      <td>8.77</td>\n",
       "    </tr>\n",
       "    <tr>\n",
       "      <th>7</th>\n",
       "      <td>Portugal</td>\n",
       "      <td>2</td>\n",
       "      <td>185.13</td>\n",
       "      <td>14</td>\n",
       "      <td>6.38</td>\n",
       "    </tr>\n",
       "    <tr>\n",
       "      <th>8</th>\n",
       "      <td>India</td>\n",
       "      <td>2</td>\n",
       "      <td>183.15</td>\n",
       "      <td>10</td>\n",
       "      <td>8.72</td>\n",
       "    </tr>\n",
       "    <tr>\n",
       "      <th>9</th>\n",
       "      <td>Other</td>\n",
       "      <td>15</td>\n",
       "      <td>1094.94</td>\n",
       "      <td>9</td>\n",
       "      <td>7.45</td>\n",
       "    </tr>\n",
       "  </tbody>\n",
       "</table>\n",
       "</div>"
      ],
      "text/plain": [
       "        countries  customers  total_sales  avg_sales_per_cust  avg_order_value\n",
       "0             USA         13      1040.49                  10             7.94\n",
       "1          Canada          8       535.59                   9             7.05\n",
       "2          Brazil          5       427.68                  12             7.01\n",
       "3          France          5       389.07                  10             7.78\n",
       "4         Germany          4       334.62                  10             8.16\n",
       "5  Czech Republic          2       273.24                  15             9.11\n",
       "6  United Kingdom          3       245.52                   9             8.77\n",
       "7        Portugal          2       185.13                  14             6.38\n",
       "8           India          2       183.15                  10             8.72\n",
       "9           Other         15      1094.94                   9             7.45"
      ]
     },
     "execution_count": 52,
     "metadata": {},
     "output_type": "execute_result"
    },
    {
     "data": {
      "image/png": "[encoded data removed]",
      "text/plain": [
       "<matplotlib.figure.Figure at 0x7f6e67802390>"
      ]
     },
     "metadata": {},
     "output_type": "display_data"
    }
   ],
   "source": [
    "customer_country_query = \"\"\"\n",
    "WITH nc AS \n",
    "   (SELECT country,\n",
    "       COUNT (c.customer_id) num_customer\n",
    "        FROM customer c\n",
    "        GROUP BY 1),\n",
    "    ci AS\n",
    "      (SELECT * \n",
    "       FROM customer c\n",
    "       INNER JOIN invoice i ON c.customer_id = i.customer_id),\n",
    "    i_by_country AS\n",
    "      (SELECT CASE \n",
    "                WHEN nc.num_customer = 1 then 'Other'\n",
    "                ELSE nc.country\n",
    "                END countries,\n",
    "                COUNT(DISTINCT(customer_id)) customers,\n",
    "                ROUND(SUM(ci.total),2) total_sales,\n",
    "                COUNT(ci.invoice_id)/ COUNT(DISTINCT(customer_id)) avg_sales_per_cust,\n",
    "                ROUND(AVG(ci.total), 2) avg_order_value\n",
    "        FROM nc\n",
    "        INNER JOIN ci ON ci.country = nc.country\n",
    "        GROUP BY countries\n",
    "        ORDER BY total_sales DESC)\n",
    "SELECT countries,\n",
    "       customers,\n",
    "       total_sales,\n",
    "       avg_sales_per_cust,\n",
    "       avg_order_value\n",
    "FROM (SELECT i_by_country.*,\n",
    "             CASE\n",
    "                 WHEN i_by_country.countries = 'Other' THEN 1\n",
    "                 ELSE 0\n",
    "             END sort\n",
    "    FROM i_by_country)\n",
    "ORDER BY sort ASC;\n",
    "\"\"\"\n",
    "customers_by_countries = pd.read_sql_query(customer_country_query, conn)\n",
    "\n",
    "## Flipped the table to make USA appear first in the graph\n",
    "cc = customers_by_countries[::-1]\n",
    "\n",
    "\n",
    "\n",
    "cc.plot.barh(x= 'countries', y='total_sales', \n",
    "        color=['silver','silver','silver','silver','silver',\n",
    "              'silver','silver','silver','silver','limegreen'])\n",
    "plt.title(\"Total Sales by Country ($)\", fontdict={'fontsize':25, 'fontweight':'bold'})\n",
    "plt.tick_params(labelsize=11)\n",
    "\n",
    "customers_by_countries\n",
    "\n"
   ]
  },
  {
   "cell_type": "markdown",
   "metadata": {},
   "source": [
    "Three countries stand out in particular:\n",
    "\n",
    "- Czech Republic\n",
    "- Portugal\n",
    "- India\n",
    "\n",
    "There may be opportunities to expand the customer base in each of these countries because the average sales per customer is high. However, since the overall amount of data is very small, exercise caution when investing in advertising for these markets."
   ]
  },
  {
   "cell_type": "markdown",
   "metadata": {},
   "source": [
    "# Do people buy whole albums or single tracks more often?"
   ]
  },
  {
   "cell_type": "markdown",
   "metadata": {},
   "source": [
    "The Chinook store is setup in a way that allows customer to make purchases in one of the two ways:\n",
    "\n",
    "- purchase a whole album\n",
    "- purchase a collection of one or more individual tracks.\n",
    "The store does not let customers purchase a whole album, and then add individual tracks to that same purchase (unless they do that by choosing each track manually). When customers purchase albums they are charged the same price as if they had purchased each of those tracks separately.\n",
    "\n",
    "Management are currently considering changing their purchasing strategy to save money. The strategy they are considering is to purchase only the most popular tracks from each album from record companies, instead of purchasing every track from an album.\n",
    "\n",
    "We have been asked to find out what percentage of purchases are individual tracks vs whole albums, so that management can use this data to understand the effect this decision might have on overall revenue.\n",
    "\n",
    "In this task, we have two edge cases to consider:\n",
    "\n",
    "Albums that have only one or two tracks are likely to be purchased by customers as part of a collection of individual tracks.\n",
    "Customers may decide to manually select every track from an album, and then add a few individual tracks from other albums to their purchase.\n",
    "In the first case, since our analysis is concerned with maximizing revenue we can safely ignore albums consisting of only a few tracks. The company has previously done analysis to confirm that the second case does not happen often, so we can ignore this case also.\n",
    "\n",
    "In order to answer the question, we're going to have to identify whether each invoice has all the tracks from an album. We can do this by getting the list of tracks from an invoice and comparing it to the list of tracks from an album. We can find the album to compare the purchase to by looking up the album that one of the purchased tracks belongs to. It doesn't matter which track we pick, since if it's an album purchase, that album will be the same for all tracks."
   ]
  },
  {
   "cell_type": "code",
   "execution_count": 2,
   "metadata": {
    "collapsed": false
   },
   "outputs": [
    {
     "data": {
      "text/html": [
       "<div>\n",
       "<style scoped>\n",
       "    .dataframe tbody tr th:only-of-type {\n",
       "        vertical-align: middle;\n",
       "    }\n",
       "\n",
       "    .dataframe tbody tr th {\n",
       "        vertical-align: top;\n",
       "    }\n",
       "\n",
       "    .dataframe thead th {\n",
       "        text-align: right;\n",
       "    }\n",
       "</style>\n",
       "<table border=\"1\" class=\"dataframe\">\n",
       "  <thead>\n",
       "    <tr style=\"text-align: right;\">\n",
       "      <th></th>\n",
       "      <th>purchase_type</th>\n",
       "      <th>invoice_count</th>\n",
       "      <th>pct</th>\n",
       "    </tr>\n",
       "  </thead>\n",
       "  <tbody>\n",
       "    <tr>\n",
       "      <th>0</th>\n",
       "      <td>Album</td>\n",
       "      <td>111</td>\n",
       "      <td>18.08</td>\n",
       "    </tr>\n",
       "    <tr>\n",
       "      <th>1</th>\n",
       "      <td>Individual Tracks</td>\n",
       "      <td>503</td>\n",
       "      <td>81.92</td>\n",
       "    </tr>\n",
       "  </tbody>\n",
       "</table>\n",
       "</div>"
      ],
      "text/plain": [
       "       purchase_type  invoice_count    pct\n",
       "0              Album            111  18.08\n",
       "1  Individual Tracks            503  81.92"
      ]
     },
     "execution_count": 2,
     "metadata": {},
     "output_type": "execute_result"
    },
    {
     "data": {
      "image/png": "[encoded data removed]",
      "text/plain": [
       "<matplotlib.figure.Figure at 0x7f6eb4b163c8>"
      ]
     },
     "metadata": {},
     "output_type": "display_data"
    }
   ],
   "source": [
    "purchase_type_query = \"\"\"\n",
    "WITH number_of_tracks AS\n",
    " \n",
    "     (SELECT t.album_id,\n",
    "             COUNT(t.track_id) tracks_per_album\n",
    "             FROM track t\n",
    "             GROUP BY album_id),\n",
    "\n",
    "tracks_per_invoice AS\n",
    "     (SELECT il.invoice_id,\n",
    "             t.album_id,\n",
    "      COUNT (il.track_id) track_count\n",
    "      FROM track t\n",
    "      INNER JOIN invoice_line il ON il.track_id = t.track_id\n",
    "      GROUP BY 1,2\n",
    "     ),\n",
    "ind_vs_album AS \n",
    "     (SELECT *,\n",
    "      CASE \n",
    "         WHEN tpi.track_count != nbt.tracks_per_album THEN 'Individual Tracks'\n",
    "         WHEN tpi.track_count = 1 THEN 'Individual Tracks'\n",
    "         ELSE 'Album'\n",
    "      END 'purchase_type'\n",
    "      FROM tracks_per_invoice tpi\n",
    "      INNER JOIN number_of_tracks nbt ON tpi.album_id = nbt.album_id\n",
    "     )\n",
    "\n",
    "SELECT purchase_type,\n",
    "       COUNT(DISTINCT(invoice_id)) invoice_count,\n",
    "       ROUND(CAST(COUNT(DISTINCT(invoice_id)) AS FLOAT) / (SELECT COUNT(DISTINCT(invoice_id)) \n",
    "                                                           FROM ind_vs_album),4) * 100 pct\n",
    "FROM ind_vs_album\n",
    "GROUP BY purchase_type;\n",
    "\n",
    "\"\"\"\n",
    "\n",
    "purchase_type = pd.read_sql_query(purchase_type_query, conn)\n",
    "\n",
    "fig, ax = plt.subplots(1,1, figsize=(8,7))\n",
    "\n",
    "ax.pie(x=purchase_type['pct'], labels=purchase_type['purchase_type'], colors=['silver','orange'], \n",
    "       autopct='%1.1f%%', startangle=180, textprops={'fontsize':15})\n",
    "plt.title(\"Individual Track vs. Album Sales (%)\", fontdict={'fontsize':25,'fontweight':'bold'})\n",
    "\n",
    "purchase_type\n",
    "    "
   ]
  },
  {
   "cell_type": "markdown",
   "metadata": {},
   "source": [
    "Customers tend to buy individual tracks 4 times more often than the whole albums. This means that the new strategy in consideration (purchasing only the most popular tracks from each album from record companies instead of purchasing the whole albums) will definitely help to maximize the overall revenue."
   ]
  },
  {
   "cell_type": "markdown",
   "metadata": {
    "collapsed": true
   },
   "source": [
    "# The most listened artists"
   ]
  },
  {
   "cell_type": "markdown",
   "metadata": {},
   "source": [
    "Next, we're going to find out which artists are used in the most playlists. This information can give us valuable insights on further purchasing strategies of the Chinook store. The tables to be used are `artist`, `album`, `track`, and `playlist_track`."
   ]
  },
  {
   "cell_type": "code",
   "execution_count": 10,
   "metadata": {
    "collapsed": false
   },
   "outputs": [
    {
     "name": "stdout",
     "output_type": "stream",
     "text": [
      "Done.\n"
     ]
    },
    {
     "data": {
      "text/html": [
       "<table>\n",
       "    <tr>\n",
       "        <th>artist_name</th>\n",
       "        <th>num_playlists</th>\n",
       "    </tr>\n",
       "    <tr>\n",
       "        <td>Eugene Ormandy</td>\n",
       "        <td>7</td>\n",
       "    </tr>\n",
       "    <tr>\n",
       "        <td>Academy of St. Martin in the Fields &amp; Sir Neville Marriner</td>\n",
       "        <td>6</td>\n",
       "    </tr>\n",
       "    <tr>\n",
       "        <td>Berliner Philharmoniker &amp; Herbert Von Karajan</td>\n",
       "        <td>6</td>\n",
       "    </tr>\n",
       "    <tr>\n",
       "        <td>English Concert &amp; Trevor Pinnock</td>\n",
       "        <td>6</td>\n",
       "    </tr>\n",
       "    <tr>\n",
       "        <td>The King&#x27;s Singers</td>\n",
       "        <td>6</td>\n",
       "    </tr>\n",
       "    <tr>\n",
       "        <td>Academy of St. Martin in the Fields, Sir Neville Marriner &amp; Thurston Dart</td>\n",
       "        <td>5</td>\n",
       "    </tr>\n",
       "    <tr>\n",
       "        <td>Adrian Leaper &amp; Doreen de Feis</td>\n",
       "        <td>5</td>\n",
       "    </tr>\n",
       "    <tr>\n",
       "        <td>Alberto Turco &amp; Nova Schola Gregoriana</td>\n",
       "        <td>5</td>\n",
       "    </tr>\n",
       "    <tr>\n",
       "        <td>Antal Doráti &amp; London Symphony Orchestra</td>\n",
       "        <td>5</td>\n",
       "    </tr>\n",
       "    <tr>\n",
       "        <td>Barry Wordsworth &amp; BBC Concert Orchestra</td>\n",
       "        <td>5</td>\n",
       "    </tr>\n",
       "</table>"
      ],
      "text/plain": [
       "[('Eugene Ormandy', 7),\n",
       " ('Academy of St. Martin in the Fields & Sir Neville Marriner', 6),\n",
       " ('Berliner Philharmoniker & Herbert Von Karajan', 6),\n",
       " ('English Concert & Trevor Pinnock', 6),\n",
       " (\"The King's Singers\", 6),\n",
       " ('Academy of St. Martin in the Fields, Sir Neville Marriner & Thurston Dart', 5),\n",
       " ('Adrian Leaper & Doreen de Feis', 5),\n",
       " ('Alberto Turco & Nova Schola Gregoriana', 5),\n",
       " ('Antal Doráti & London Symphony Orchestra', 5),\n",
       " ('Barry Wordsworth & BBC Concert Orchestra', 5)]"
      ]
     },
     "execution_count": 10,
     "metadata": {},
     "output_type": "execute_result"
    }
   ],
   "source": [
    "%%sql\n",
    "SELECT ar.name artist_name,\n",
    "       COUNT(DISTINCT(pt.playlist_id)) num_playlists\n",
    "    FROM artist ar\n",
    "    INNER JOIN album al ON ar.artist_id = al.artist_id\n",
    "    INNER JOIN track t ON al.album_id = t.album_id\n",
    "    INNER JOIN playlist_track pt ON t.track_id = pt.track_id\n",
    "GROUP BY 1\n",
    "ORDER BY 2 DESC\n",
    "LIMIT 10;"
   ]
  },
  {
   "cell_type": "markdown",
   "metadata": {},
   "source": [
    "Based on our findings, we see that Eugene Ormandy was the most common artist amongst the playlists, being in 7 different playlists. There were 4 other artists that were in 6 playlists and many other artists that were in 5 playlists or fewer."
   ]
  },
  {
   "cell_type": "markdown",
   "metadata": {},
   "source": [
    "# Purchased vs Not Purchased Tracks"
   ]
  },
  {
   "cell_type": "markdown",
   "metadata": {},
   "source": [
    "The Chinook store is trying to see what songs are purchased and not purchased. First, they want to see how much of their inventory is actually being sold. To do this, we must find the number of tracks sold and not sold and the percentage of each. We will compare all the tracks in the track table with the ``invoice_line`` table and if it's not in the ``invoice_line`` table then it was not purchased."
   ]
  },
  {
   "cell_type": "code",
   "execution_count": 23,
   "metadata": {
    "collapsed": false
   },
   "outputs": [
    {
     "data": {
      "text/html": [
       "<div>\n",
       "<style scoped>\n",
       "    .dataframe tbody tr th:only-of-type {\n",
       "        vertical-align: middle;\n",
       "    }\n",
       "\n",
       "    .dataframe tbody tr th {\n",
       "        vertical-align: top;\n",
       "    }\n",
       "\n",
       "    .dataframe thead th {\n",
       "        text-align: right;\n",
       "    }\n",
       "</style>\n",
       "<table border=\"1\" class=\"dataframe\">\n",
       "  <thead>\n",
       "    <tr style=\"text-align: right;\">\n",
       "      <th></th>\n",
       "      <th>Status</th>\n",
       "      <th>num_tracks</th>\n",
       "      <th>pct</th>\n",
       "    </tr>\n",
       "  </thead>\n",
       "  <tbody>\n",
       "    <tr>\n",
       "      <th>0</th>\n",
       "      <td>Not purchased</td>\n",
       "      <td>1697</td>\n",
       "      <td>48.4</td>\n",
       "    </tr>\n",
       "    <tr>\n",
       "      <th>1</th>\n",
       "      <td>Purchased</td>\n",
       "      <td>1806</td>\n",
       "      <td>51.6</td>\n",
       "    </tr>\n",
       "  </tbody>\n",
       "</table>\n",
       "</div>"
      ],
      "text/plain": [
       "          Status  num_tracks   pct\n",
       "0  Not purchased        1697  48.4\n",
       "1      Purchased        1806  51.6"
      ]
     },
     "execution_count": 23,
     "metadata": {},
     "output_type": "execute_result"
    },
    {
     "data": {
      "image/png": "[encoded data removed]",
      "text/plain": [
       "<matplotlib.figure.Figure at 0x7efec394e940>"
      ]
     },
     "metadata": {},
     "output_type": "display_data"
    }
   ],
   "source": [
    "purchase_query = \"\"\"\n",
    "SELECT CASE \n",
    "   WHEN EXISTS(SELECT *\n",
    "              FROM invoice_line il\n",
    "              WHERE t.track_id = il.track_id)\n",
    "         THEN 'Purchased'\n",
    "         ELSE 'Not purchased'\n",
    "    END AS 'Status',\n",
    "    COUNT (t.track_id)  num_tracks,\n",
    "    ROUND(CAST(COUNT(*) AS FLOAT) / (SELECT COUNT(*) FROM track),3) * 100 pct \n",
    "FROM track t\n",
    "GROUP BY Status;\n",
    "\n",
    "\"\"\"\n",
    "\n",
    "purchased = pd.read_sql_query(purchase_query, conn)\n",
    "color = ['blue', 'orange']\n",
    "purchased.plot.bar(x='Status', y='num_tracks', color=color)\n",
    "\n",
    "\n",
    "plt.title(\"How many tracks have been purchased?\", fontdict={'fontsize':20, 'fontweight':'bold'})\n",
    "\n",
    "purchased\n"
   ]
  },
  {
   "cell_type": "markdown",
   "metadata": {},
   "source": [
    "Based on our findings, we can see that 1806 (51.56%) out of 3503 total tracks were purchased. So, this means 48.44% of the tracks in the store were not purchased. If Chinook is having a problem with their sales, they may want to look into adding more popular artists and removing the artists that aren't selling well or at all.Possible solutions here may include a new advertising campaign (especialy in the USA, as the biggest segment of market), sales promotion, additional training and motivation of the sales support agents."
   ]
  },
  {
   "cell_type": "markdown",
   "metadata": {},
   "source": [
    "# Is the range of tracks in the store reflective of their sales popularity?"
   ]
  },
  {
   "cell_type": "markdown",
   "metadata": {},
   "source": [
    "The Chinook store is looking to diversify their store's selection. They want to find out if having more tracks correlates with sales popularity. To do this, we will find the total number of tracks in each genre and the total sales for each. We can retrieve this information from the track, genre, invoice, and invoice_line tables."
   ]
  },
  {
   "cell_type": "code",
   "execution_count": 20,
   "metadata": {
    "collapsed": false
   },
   "outputs": [],
   "source": [
    "t_variety_vs_sales_query = \"\"\"\n",
    "WITH total_tracks AS\n",
    "   (\n",
    "   SELECT g.name genre_name,\n",
    "         COUNT (t.track_id) total_tracks\n",
    "   FROM track t\n",
    "   INNER JOIN genre g ON g.genre_id = t.genre_id\n",
    "   GROUP BY 1),\n",
    "total_sales AS\n",
    "   (SELECT g.name genre_name,\n",
    "    ROUND(SUM(i.total),2) total_sales\n",
    "    FROM track t\n",
    "    INNER JOIN genre g ON g.genre_id = t.genre_id\n",
    "    INNER JOIN invoice_line il ON il.track_id = t.track_id\n",
    "    INNER JOIN invoice i ON il.invoice_id = i.invoice_id\n",
    "    GROUP BY 1)\n",
    "SELECT ts.*,\n",
    "       tt.total_tracks\n",
    "      FROM total_sales ts\n",
    "        INNER JOIN total_tracks tt ON tt.genre_name = ts.genre_name\n",
    "\"\"\"   "
   ]
  },
  {
   "cell_type": "code",
   "execution_count": 26,
   "metadata": {
    "collapsed": false
   },
   "outputs": [
    {
     "data": {
      "text/html": [
       "<div>\n",
       "<style scoped>\n",
       "    .dataframe tbody tr th:only-of-type {\n",
       "        vertical-align: middle;\n",
       "    }\n",
       "\n",
       "    .dataframe tbody tr th {\n",
       "        vertical-align: top;\n",
       "    }\n",
       "\n",
       "    .dataframe thead th {\n",
       "        text-align: right;\n",
       "    }\n",
       "</style>\n",
       "<table border=\"1\" class=\"dataframe\">\n",
       "  <thead>\n",
       "    <tr style=\"text-align: right;\">\n",
       "      <th></th>\n",
       "      <th>genre_name</th>\n",
       "      <th>total_sales</th>\n",
       "      <th>total_tracks</th>\n",
       "    </tr>\n",
       "  </thead>\n",
       "  <tbody>\n",
       "    <tr>\n",
       "      <th>0</th>\n",
       "      <td>Alternative</td>\n",
       "      <td>1095.93</td>\n",
       "      <td>40</td>\n",
       "    </tr>\n",
       "    <tr>\n",
       "      <th>1</th>\n",
       "      <td>Alternative &amp; Punk</td>\n",
       "      <td>4841.10</td>\n",
       "      <td>332</td>\n",
       "    </tr>\n",
       "    <tr>\n",
       "      <th>2</th>\n",
       "      <td>Blues</td>\n",
       "      <td>1379.07</td>\n",
       "      <td>81</td>\n",
       "    </tr>\n",
       "    <tr>\n",
       "      <th>3</th>\n",
       "      <td>Classical</td>\n",
       "      <td>361.35</td>\n",
       "      <td>74</td>\n",
       "    </tr>\n",
       "    <tr>\n",
       "      <th>4</th>\n",
       "      <td>Drama</td>\n",
       "      <td>5.94</td>\n",
       "      <td>64</td>\n",
       "    </tr>\n",
       "    <tr>\n",
       "      <th>5</th>\n",
       "      <td>Easy Listening</td>\n",
       "      <td>951.39</td>\n",
       "      <td>24</td>\n",
       "    </tr>\n",
       "    <tr>\n",
       "      <th>6</th>\n",
       "      <td>Electronica/Dance</td>\n",
       "      <td>614.79</td>\n",
       "      <td>30</td>\n",
       "    </tr>\n",
       "    <tr>\n",
       "      <th>7</th>\n",
       "      <td>Heavy Metal</td>\n",
       "      <td>70.29</td>\n",
       "      <td>28</td>\n",
       "    </tr>\n",
       "    <tr>\n",
       "      <th>8</th>\n",
       "      <td>Hip Hop/Rap</td>\n",
       "      <td>463.32</td>\n",
       "      <td>35</td>\n",
       "    </tr>\n",
       "    <tr>\n",
       "      <th>9</th>\n",
       "      <td>Jazz</td>\n",
       "      <td>1302.84</td>\n",
       "      <td>130</td>\n",
       "    </tr>\n",
       "    <tr>\n",
       "      <th>10</th>\n",
       "      <td>Latin</td>\n",
       "      <td>1705.77</td>\n",
       "      <td>579</td>\n",
       "    </tr>\n",
       "    <tr>\n",
       "      <th>11</th>\n",
       "      <td>Metal</td>\n",
       "      <td>5316.30</td>\n",
       "      <td>374</td>\n",
       "    </tr>\n",
       "    <tr>\n",
       "      <th>12</th>\n",
       "      <td>Pop</td>\n",
       "      <td>568.26</td>\n",
       "      <td>48</td>\n",
       "    </tr>\n",
       "    <tr>\n",
       "      <th>13</th>\n",
       "      <td>R&amp;B/Soul</td>\n",
       "      <td>1751.31</td>\n",
       "      <td>61</td>\n",
       "    </tr>\n",
       "    <tr>\n",
       "      <th>14</th>\n",
       "      <td>Reggae</td>\n",
       "      <td>257.40</td>\n",
       "      <td>58</td>\n",
       "    </tr>\n",
       "    <tr>\n",
       "      <th>15</th>\n",
       "      <td>Rock</td>\n",
       "      <td>26751.78</td>\n",
       "      <td>1297</td>\n",
       "    </tr>\n",
       "    <tr>\n",
       "      <th>16</th>\n",
       "      <td>Soundtrack</td>\n",
       "      <td>46.53</td>\n",
       "      <td>43</td>\n",
       "    </tr>\n",
       "    <tr>\n",
       "      <th>17</th>\n",
       "      <td>TV Shows</td>\n",
       "      <td>19.80</td>\n",
       "      <td>93</td>\n",
       "    </tr>\n",
       "  </tbody>\n",
       "</table>\n",
       "</div>"
      ],
      "text/plain": [
       "            genre_name  total_sales  total_tracks\n",
       "0          Alternative      1095.93            40\n",
       "1   Alternative & Punk      4841.10           332\n",
       "2                Blues      1379.07            81\n",
       "3            Classical       361.35            74\n",
       "4                Drama         5.94            64\n",
       "5       Easy Listening       951.39            24\n",
       "6    Electronica/Dance       614.79            30\n",
       "7          Heavy Metal        70.29            28\n",
       "8          Hip Hop/Rap       463.32            35\n",
       "9                 Jazz      1302.84           130\n",
       "10               Latin      1705.77           579\n",
       "11               Metal      5316.30           374\n",
       "12                 Pop       568.26            48\n",
       "13            R&B/Soul      1751.31            61\n",
       "14              Reggae       257.40            58\n",
       "15                Rock     26751.78          1297\n",
       "16          Soundtrack        46.53            43\n",
       "17            TV Shows        19.80            93"
      ]
     },
     "execution_count": 26,
     "metadata": {},
     "output_type": "execute_result"
    },
    {
     "data": {
      "image/png": "[encoded data removed]",
      "text/plain": [
       "<matplotlib.figure.Figure at 0x7efea24063c8>"
      ]
     },
     "metadata": {},
     "output_type": "display_data"
    }
   ],
   "source": [
    "data = pd.read_sql_query(t_variety_vs_sales_query, conn)\n",
    "\n",
    "plt.scatter(data['total_sales'], data['total_tracks'], alpha=0.3)\n",
    "plt.title(\"Total Sales vs. Total Tracks by Genre\", fontdict={'fontsize':20,'fontweight':'bold'})\n",
    "plt.xlabel(\"Total Sales ($)\", fontsize=15)\n",
    "plt.ylabel(\"Total Tracks\", fontsize=15)\n",
    "\n",
    "\n",
    "\n",
    "data"
   ]
  },
  {
   "cell_type": "code",
   "execution_count": 25,
   "metadata": {
    "collapsed": false
   },
   "outputs": [
    {
     "data": {
      "text/html": [
       "<div>\n",
       "<style scoped>\n",
       "    .dataframe tbody tr th:only-of-type {\n",
       "        vertical-align: middle;\n",
       "    }\n",
       "\n",
       "    .dataframe tbody tr th {\n",
       "        vertical-align: top;\n",
       "    }\n",
       "\n",
       "    .dataframe thead th {\n",
       "        text-align: right;\n",
       "    }\n",
       "</style>\n",
       "<table border=\"1\" class=\"dataframe\">\n",
       "  <thead>\n",
       "    <tr style=\"text-align: right;\">\n",
       "      <th></th>\n",
       "      <th>total_sales</th>\n",
       "      <th>total_tracks</th>\n",
       "    </tr>\n",
       "  </thead>\n",
       "  <tbody>\n",
       "    <tr>\n",
       "      <th>total_sales</th>\n",
       "      <td>1.000000</td>\n",
       "      <td>0.929652</td>\n",
       "    </tr>\n",
       "    <tr>\n",
       "      <th>total_tracks</th>\n",
       "      <td>0.929652</td>\n",
       "      <td>1.000000</td>\n",
       "    </tr>\n",
       "  </tbody>\n",
       "</table>\n",
       "</div>"
      ],
      "text/plain": [
       "              total_sales  total_tracks\n",
       "total_sales      1.000000      0.929652\n",
       "total_tracks     0.929652      1.000000"
      ]
     },
     "execution_count": 25,
     "metadata": {},
     "output_type": "execute_result"
    }
   ],
   "source": [
    "data.corr()"
   ]
  },
  {
   "cell_type": "markdown",
   "metadata": {},
   "source": [
    "Based on our findings above, we can see that there is a strong positive correlation with total tracks and total sales for each genre, with a correlation of .929.\n",
    "\n",
    "From this, we can recommend Chinook to find the most popular tracks in each genre and diversify their store selection."
   ]
  },
  {
   "cell_type": "markdown",
   "metadata": {},
   "source": [
    "# Popularity of Protected vs Non-Protected Media Types"
   ]
  },
  {
   "cell_type": "markdown",
   "metadata": {},
   "source": [
    "f a track has a protected media type, it means that it has some associated rules for using its content. It can be encrypted using some form of digital rights management encryption. To play such a file, playback must occur inside the protected media path. In addition, the user might have to acquire rights to the content.\n",
    "\n",
    "Let's start by looking at the unique values of media types and whether there are any protected types among them."
   ]
  },
  {
   "cell_type": "code",
   "execution_count": 99,
   "metadata": {
    "collapsed": false
   },
   "outputs": [],
   "source": [
    "protected_query = \"\"\"\n",
    "\n",
    "WITH protected_type AS\n",
    "     (SELECT *\n",
    "             FROM media_type\n",
    "             WHERE name LIKE '%Protected%'),\n",
    "classified_invoice AS\n",
    "     (SELECT i.invoice_id,\n",
    "             t.media_type_id,\n",
    "             i.total,\n",
    "             CASE\n",
    "                 WHEN t.media_type_id = pt.media_type_id\n",
    "                 THEN 'Protected'\n",
    "                 ELSE 'Non-Protected'\n",
    "             END AS 'media_type'\n",
    "             FROM invoice i\n",
    "             INNER JOIN invoice_line il ON il.invoice_id = i.invoice_id\n",
    "             INNER JOIN track t ON il.track_id = t.track_id\n",
    "             LEFT JOIN protected_type pt ON t.media_type_id = pt.media_type_id)\n",
    "SELECT media_type,\n",
    "       COUNT(invoice_id) num_invoice,\n",
    "       ROUND(SUM(total), 3) total_sales,\n",
    "       ROUND(CAST(COUNT(invoice_id) AS FLOAT) / (SELECT COUNT(invoice_id) FROM classified_invoice),3) * 100 pct\n",
    "    FROM classified_invoice\n",
    "    GROUP BY 1;\n",
    "\"\"\""
   ]
  },
  {
   "cell_type": "code",
   "execution_count": 100,
   "metadata": {
    "collapsed": false
   },
   "outputs": [
    {
     "data": {
      "text/html": [
       "<div>\n",
       "<style scoped>\n",
       "    .dataframe tbody tr th:only-of-type {\n",
       "        vertical-align: middle;\n",
       "    }\n",
       "\n",
       "    .dataframe tbody tr th {\n",
       "        vertical-align: top;\n",
       "    }\n",
       "\n",
       "    .dataframe thead th {\n",
       "        text-align: right;\n",
       "    }\n",
       "</style>\n",
       "<table border=\"1\" class=\"dataframe\">\n",
       "  <thead>\n",
       "    <tr style=\"text-align: right;\">\n",
       "      <th></th>\n",
       "      <th>media_type</th>\n",
       "      <th>num_invoice</th>\n",
       "      <th>total_sales</th>\n",
       "      <th>pct</th>\n",
       "    </tr>\n",
       "  </thead>\n",
       "  <tbody>\n",
       "    <tr>\n",
       "      <th>0</th>\n",
       "      <td>Non-Protected</td>\n",
       "      <td>4315</td>\n",
       "      <td>43362.00</td>\n",
       "      <td>90.7</td>\n",
       "    </tr>\n",
       "    <tr>\n",
       "      <th>1</th>\n",
       "      <td>Protected</td>\n",
       "      <td>442</td>\n",
       "      <td>4141.17</td>\n",
       "      <td>9.3</td>\n",
       "    </tr>\n",
       "  </tbody>\n",
       "</table>\n",
       "</div>"
      ],
      "text/plain": [
       "      media_type  num_invoice  total_sales   pct\n",
       "0  Non-Protected         4315     43362.00  90.7\n",
       "1      Protected          442      4141.17   9.3"
      ]
     },
     "execution_count": 100,
     "metadata": {},
     "output_type": "execute_result"
    },
    {
     "data": {
      "image/png": "[encoded data removed]",
      "text/plain": [
       "<matplotlib.figure.Figure at 0x7efeade9a0b8>"
      ]
     },
     "metadata": {},
     "output_type": "display_data"
    }
   ],
   "source": [
    "protected = pd.read_sql_query(protected_query, conn)\n",
    "\n",
    "fig, ax = plt.subplots(figsize=(8,8))\n",
    "\n",
    "colors = ['orange','blue']\n",
    "\n",
    "ax.pie(x=protected['pct'], labels=protected['media_type'], colors=colors, autopct=\"%1.1f%%\", textprops={'fontsize':15})\n",
    "plt.title(\"Protected vs. Non-Protected Total Sales (%)\", fontdict={'fontsize':25,'fontweight':'bold'})\n",
    "\n",
    "protected"
   ]
  },
  {
   "cell_type": "markdown",
   "metadata": {},
   "source": [
    "In a nutshell, the tracks of protected media types are much less popular than those of non-protected, both in terms of the store assortment and, especially, in terms of sales. It can be easily explained by a cumbersome way of their using, which is not really justified when it comes to buying media products for entertainment. Hence, as a future strategy, it is not recommended to the store to purchase such tracks from record companies."
   ]
  },
  {
   "cell_type": "markdown",
   "metadata": {
    "collapsed": false
   },
   "source": [
    "%%sql\n",
    "WITH protected_type AS\n",
    "     (SELECT *\n",
    "             FROM media_type\n",
    "             WHERE name LIKE '%Protected%'),\n",
    "q2 AS (SELECT \n",
    "             i.invoice_id,\n",
    "             t.media_type_id,\n",
    "             i.total,\n",
    "             CASE\n",
    "                 WHEN t.media_type_id = pt.media_type_id\n",
    "                 THEN 'Protected'\n",
    "                 ELSE 'Non-Protected'\n",
    "             END AS 'media_type'\n",
    "             FROM invoice i\n",
    "             INNER JOIN invoice_line il ON il.invoice_id = i.invoice_id\n",
    "             INNER JOIN track t ON il.track_id = t.track_id\n",
    "             LEFT JOIN protected_type pt ON t.media_type_id = pt.media_type_id)\n",
    "SELECT \n",
    "       invoice_id,\n",
    "       media_type,\n",
    "       COUNT(invoice_id),\n",
    "       (SELECT COUNT (invoice_id) FROM q2)\n",
    "    FROM q2\n",
    "GROUP BY media_type;\n"
   ]
  },
  {
   "cell_type": "markdown",
   "metadata": {
    "collapsed": true
   },
   "source": [
    "# Conclusion\n"
   ]
  },
  {
   "cell_type": "markdown",
   "metadata": {},
   "source": [
    "In this project, we used a modified version of the Chinook database to answer general business questions. The questions we addressed are as follows:\n",
    "\n",
    "Given 4 new albums, which albums should Chinook add to their store?\n",
    "1. Who had the top sales performance amongst the sales agents?\n",
    "2. Which countries had the most sales?\n",
    "3. Chinook is looking to change their purchasing strategy, so are individual track sales or album sales more popular?\n",
    "4. Which artist is used in the most playlists?\n",
    "5. How many tracks have been purchased vs not purchased?\n",
    "6. Is the range of tracks in the store reflective of their sales popularity?\n",
    "7. Do protected vs. non-protected media types have an effect on popularity?"
   ]
  },
  {
   "cell_type": "markdown",
   "metadata": {},
   "source": [
    "# Main Results"
   ]
  },
  {
   "cell_type": "markdown",
   "metadata": {},
   "source": [
    "1. Given the 4 albums, Chinook should add Red Tone's (Punk), Metero and the Girls' (Blues), and Slim Jim Bites' albums (Pop). Based on genres, punk ranked 2nd with 12.37% of sales, blues ranked 5th with 3.43%, pop ranked 8th with 2.09%.\n",
    "\n",
    "2. Out of the 3 sales support agents, Jane Peacock had the top sales performance with 38% of total sales, 1749 transactions, $18,246.69 in total sales, and an average sale of $10.43.\n",
    "USA had the most sales with 13 customers and $1040.49 in total sales, 10 sales per customer, and an average order value of $7.94.\n",
    "\n",
    "3. With the 2 types of purchases, people bought individual tracks more often than whole albums. Individual track sales held 81.92% of total sales with 503 unique invoices.\n",
    "Eugene Ormandy was the most common artist amongst the playlists, being in 7 different playlists.\n",
    "1806 (51.56%) out of 3503 total tracks were purchased.\n",
    "\n",
    "4. There is a strong positive correlation with range of tracks and total sales for each genre, with a correlation of .929.\n",
    "\n",
    "5. Non-protected tracks took up 90.7% of total sales. This does not imply causation, but simply a positive correlation"
   ]
  },
  {
   "cell_type": "code",
   "execution_count": null,
   "metadata": {
    "collapsed": true
   },
   "outputs": [],
   "source": []
  }
 ],
 "metadata": {
  "kernelspec": {
   "display_name": "Python 3",
   "language": "python",
   "name": "python3"
  },
  "language_info": {
   "codemirror_mode": {
    "name": "ipython",
    "version": 3
   },
   "file_extension": ".py",
   "mimetype": "text/x-python",
   "name": "python",
   "nbconvert_exporter": "python",
   "pygments_lexer": "ipython3",
   "version": "3.4.3"
  }
 },
 "nbformat": 4,
 "nbformat_minor": 2
}
